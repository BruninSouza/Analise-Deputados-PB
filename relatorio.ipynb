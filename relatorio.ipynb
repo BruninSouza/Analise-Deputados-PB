{
 "cells": [
  {
   "cell_type": "markdown",
   "metadata": {},
   "source": [
    "# Análise de Dados - UFPB\n",
    "\n",
    "# Laboratório: Regressão\n",
    "\n",
    "Você deve usar os dados das eleições do TSE para entender os fatores que influenciam a votação dos candidatos usando modelos de regressão e outras análises estatísticas. Nesta atividade, vocês devem concentrar a análise em candidatos a deputado estadual na Paraíba em 2022. Os dados que combinam informações de votação, receitas de campanha e bens dos candidatos estão no arquivo `dados/eleicao_2022_pb_deputado_estadual.csv`. A análise deve ser feita neste relatório Jupyter Notebook. O relatório já possui algumas perguntas a serem respondidas. Use as perguntas como base, mas não fique preso a elas. Você pode fazer novas perguntas e novas análises à vontade.\n",
    "\n",
    "## Carregamento dos dados"
   ]
  },
  {
   "cell_type": "code",
   "execution_count": 95,
   "metadata": {},
   "outputs": [
    {
     "data": {
      "text/html": [
       "<div>\n",
       "<style scoped>\n",
       "    .dataframe tbody tr th:only-of-type {\n",
       "        vertical-align: middle;\n",
       "    }\n",
       "\n",
       "    .dataframe tbody tr th {\n",
       "        vertical-align: top;\n",
       "    }\n",
       "\n",
       "    .dataframe thead th {\n",
       "        text-align: right;\n",
       "    }\n",
       "</style>\n",
       "<table border=\"1\" class=\"dataframe\">\n",
       "  <thead>\n",
       "    <tr style=\"text-align: right;\">\n",
       "      <th></th>\n",
       "      <th>SQ_CANDIDATO</th>\n",
       "      <th>ANO_ELEICAO</th>\n",
       "      <th>SG_UF</th>\n",
       "      <th>DS_CARGO</th>\n",
       "      <th>NR_CANDIDATO</th>\n",
       "      <th>NM_URNA_CANDIDATO</th>\n",
       "      <th>SG_PARTIDO</th>\n",
       "      <th>DT_NASCIMENTO</th>\n",
       "      <th>NR_IDADE_DATA_POSSE</th>\n",
       "      <th>DS_GENERO</th>\n",
       "      <th>DS_GRAU_INSTRUCAO</th>\n",
       "      <th>DS_ESTADO_CIVIL</th>\n",
       "      <th>DS_COR_RACA</th>\n",
       "      <th>DS_OCUPACAO</th>\n",
       "      <th>VR_DESPESA_MAX_CAMPANHA</th>\n",
       "      <th>DS_SIT_TOT_TURNO</th>\n",
       "      <th>QT_VOTOS</th>\n",
       "      <th>VR_RECEITA</th>\n",
       "      <th>VR_BEM_CANDIDATO</th>\n",
       "    </tr>\n",
       "  </thead>\n",
       "  <tbody>\n",
       "    <tr>\n",
       "      <th>0</th>\n",
       "      <td>150001643207</td>\n",
       "      <td>2022</td>\n",
       "      <td>PB</td>\n",
       "      <td>DEPUTADO ESTADUAL</td>\n",
       "      <td>13999</td>\n",
       "      <td>NAL DA BANCA</td>\n",
       "      <td>PT</td>\n",
       "      <td>30/11/1983</td>\n",
       "      <td>39</td>\n",
       "      <td>MASCULINO</td>\n",
       "      <td>ENSINO MÉDIO COMPLETO</td>\n",
       "      <td>SOLTEIRO(A)</td>\n",
       "      <td>BRANCA</td>\n",
       "      <td>COMERCIANTE</td>\n",
       "      <td>1270629.01</td>\n",
       "      <td>SUPLENTE</td>\n",
       "      <td>331.0</td>\n",
       "      <td>6000.00</td>\n",
       "      <td>NaN</td>\n",
       "    </tr>\n",
       "    <tr>\n",
       "      <th>1</th>\n",
       "      <td>150001718492</td>\n",
       "      <td>2022</td>\n",
       "      <td>PB</td>\n",
       "      <td>DEPUTADO ESTADUAL</td>\n",
       "      <td>36013</td>\n",
       "      <td>NILDÃO É POVÃO</td>\n",
       "      <td>AGIR</td>\n",
       "      <td>22/04/1961</td>\n",
       "      <td>61</td>\n",
       "      <td>MASCULINO</td>\n",
       "      <td>SUPERIOR COMPLETO</td>\n",
       "      <td>CASADO(A)</td>\n",
       "      <td>PARDA</td>\n",
       "      <td>ADMINISTRADOR</td>\n",
       "      <td>1270629.01</td>\n",
       "      <td>NÃO ELEITO</td>\n",
       "      <td>123.0</td>\n",
       "      <td>1347.25</td>\n",
       "      <td>200000.00</td>\n",
       "    </tr>\n",
       "    <tr>\n",
       "      <th>2</th>\n",
       "      <td>150001718098</td>\n",
       "      <td>2022</td>\n",
       "      <td>PB</td>\n",
       "      <td>DEPUTADO ESTADUAL</td>\n",
       "      <td>15789</td>\n",
       "      <td>ANDRE GADELHA</td>\n",
       "      <td>MDB</td>\n",
       "      <td>10/04/1975</td>\n",
       "      <td>47</td>\n",
       "      <td>MASCULINO</td>\n",
       "      <td>SUPERIOR COMPLETO</td>\n",
       "      <td>CASADO(A)</td>\n",
       "      <td>PARDA</td>\n",
       "      <td>ADMINISTRADOR</td>\n",
       "      <td>1270629.01</td>\n",
       "      <td>SUPLENTE</td>\n",
       "      <td>18374.0</td>\n",
       "      <td>168500.00</td>\n",
       "      <td>1387610.47</td>\n",
       "    </tr>\n",
       "    <tr>\n",
       "      <th>3</th>\n",
       "      <td>150001718219</td>\n",
       "      <td>2022</td>\n",
       "      <td>PB</td>\n",
       "      <td>DEPUTADO ESTADUAL</td>\n",
       "      <td>22122</td>\n",
       "      <td>CICINHO LIMA</td>\n",
       "      <td>PL</td>\n",
       "      <td>04/09/1974</td>\n",
       "      <td>48</td>\n",
       "      <td>MASCULINO</td>\n",
       "      <td>ENSINO MÉDIO COMPLETO</td>\n",
       "      <td>CASADO(A)</td>\n",
       "      <td>PRETA</td>\n",
       "      <td>CANTOR E COMPOSITOR</td>\n",
       "      <td>1270629.01</td>\n",
       "      <td>SUPLENTE</td>\n",
       "      <td>15703.0</td>\n",
       "      <td>226765.60</td>\n",
       "      <td>NaN</td>\n",
       "    </tr>\n",
       "    <tr>\n",
       "      <th>4</th>\n",
       "      <td>150001621356</td>\n",
       "      <td>2022</td>\n",
       "      <td>PB</td>\n",
       "      <td>DEPUTADO ESTADUAL</td>\n",
       "      <td>45745</td>\n",
       "      <td>ROSA TORREÃO</td>\n",
       "      <td>PSDB</td>\n",
       "      <td>26/07/1980</td>\n",
       "      <td>42</td>\n",
       "      <td>FEMININO</td>\n",
       "      <td>ENSINO FUNDAMENTAL INCOMPLETO</td>\n",
       "      <td>CASADO(A)</td>\n",
       "      <td>PARDA</td>\n",
       "      <td>CABELEIREIRO E BARBEIRO</td>\n",
       "      <td>1270629.01</td>\n",
       "      <td>SUPLENTE</td>\n",
       "      <td>163.0</td>\n",
       "      <td>31500.00</td>\n",
       "      <td>NaN</td>\n",
       "    </tr>\n",
       "    <tr>\n",
       "      <th>...</th>\n",
       "      <td>...</td>\n",
       "      <td>...</td>\n",
       "      <td>...</td>\n",
       "      <td>...</td>\n",
       "      <td>...</td>\n",
       "      <td>...</td>\n",
       "      <td>...</td>\n",
       "      <td>...</td>\n",
       "      <td>...</td>\n",
       "      <td>...</td>\n",
       "      <td>...</td>\n",
       "      <td>...</td>\n",
       "      <td>...</td>\n",
       "      <td>...</td>\n",
       "      <td>...</td>\n",
       "      <td>...</td>\n",
       "      <td>...</td>\n",
       "      <td>...</td>\n",
       "      <td>...</td>\n",
       "    </tr>\n",
       "    <tr>\n",
       "      <th>456</th>\n",
       "      <td>150001718225</td>\n",
       "      <td>2022</td>\n",
       "      <td>PB</td>\n",
       "      <td>DEPUTADO ESTADUAL</td>\n",
       "      <td>22300</td>\n",
       "      <td>WELLINGTON CARNEIRO</td>\n",
       "      <td>PL</td>\n",
       "      <td>02/07/1969</td>\n",
       "      <td>53</td>\n",
       "      <td>MASCULINO</td>\n",
       "      <td>SUPERIOR COMPLETO</td>\n",
       "      <td>SOLTEIRO(A)</td>\n",
       "      <td>PARDA</td>\n",
       "      <td>OUTROS</td>\n",
       "      <td>1270629.01</td>\n",
       "      <td>SUPLENTE</td>\n",
       "      <td>182.0</td>\n",
       "      <td>15000.00</td>\n",
       "      <td>NaN</td>\n",
       "    </tr>\n",
       "    <tr>\n",
       "      <th>457</th>\n",
       "      <td>150001603148</td>\n",
       "      <td>2022</td>\n",
       "      <td>PB</td>\n",
       "      <td>DEPUTADO ESTADUAL</td>\n",
       "      <td>44112</td>\n",
       "      <td>PASTOR PAULINHO PAZ</td>\n",
       "      <td>UNIÃO</td>\n",
       "      <td>28/03/1985</td>\n",
       "      <td>37</td>\n",
       "      <td>MASCULINO</td>\n",
       "      <td>SUPERIOR INCOMPLETO</td>\n",
       "      <td>CASADO(A)</td>\n",
       "      <td>BRANCA</td>\n",
       "      <td>OUTROS</td>\n",
       "      <td>1270629.01</td>\n",
       "      <td>NÃO ELEITO</td>\n",
       "      <td>90.0</td>\n",
       "      <td>NaN</td>\n",
       "      <td>NaN</td>\n",
       "    </tr>\n",
       "    <tr>\n",
       "      <th>458</th>\n",
       "      <td>150001718212</td>\n",
       "      <td>2022</td>\n",
       "      <td>PB</td>\n",
       "      <td>DEPUTADO ESTADUAL</td>\n",
       "      <td>22001</td>\n",
       "      <td>PROF SGT JOELSON</td>\n",
       "      <td>PL</td>\n",
       "      <td>15/03/1963</td>\n",
       "      <td>59</td>\n",
       "      <td>MASCULINO</td>\n",
       "      <td>SUPERIOR COMPLETO</td>\n",
       "      <td>CASADO(A)</td>\n",
       "      <td>PARDA</td>\n",
       "      <td>OUTROS</td>\n",
       "      <td>1270629.01</td>\n",
       "      <td>SUPLENTE</td>\n",
       "      <td>2228.0</td>\n",
       "      <td>15011.65</td>\n",
       "      <td>22000.00</td>\n",
       "    </tr>\n",
       "    <tr>\n",
       "      <th>459</th>\n",
       "      <td>150001725483</td>\n",
       "      <td>2022</td>\n",
       "      <td>PB</td>\n",
       "      <td>DEPUTADO ESTADUAL</td>\n",
       "      <td>12321</td>\n",
       "      <td>CONCEIÇÃO OLIVEIRA</td>\n",
       "      <td>PDT</td>\n",
       "      <td>08/12/1995</td>\n",
       "      <td>27</td>\n",
       "      <td>FEMININO</td>\n",
       "      <td>ENSINO MÉDIO COMPLETO</td>\n",
       "      <td>SOLTEIRO(A)</td>\n",
       "      <td>PARDA</td>\n",
       "      <td>ESTUDANTE, BOLSISTA, ESTAGIÁRIO E ASSEMELHADOS</td>\n",
       "      <td>1270629.01</td>\n",
       "      <td>#NULO#</td>\n",
       "      <td>NaN</td>\n",
       "      <td>NaN</td>\n",
       "      <td>NaN</td>\n",
       "    </tr>\n",
       "    <tr>\n",
       "      <th>460</th>\n",
       "      <td>150001718205</td>\n",
       "      <td>2022</td>\n",
       "      <td>PB</td>\n",
       "      <td>DEPUTADO ESTADUAL</td>\n",
       "      <td>22444</td>\n",
       "      <td>JOSMA OLIVEIRA</td>\n",
       "      <td>PL</td>\n",
       "      <td>25/09/1982</td>\n",
       "      <td>40</td>\n",
       "      <td>MASCULINO</td>\n",
       "      <td>SUPERIOR COMPLETO</td>\n",
       "      <td>SOLTEIRO(A)</td>\n",
       "      <td>BRANCA</td>\n",
       "      <td>EMPRESÁRIO</td>\n",
       "      <td>1270629.01</td>\n",
       "      <td>SUPLENTE</td>\n",
       "      <td>3891.0</td>\n",
       "      <td>17500.00</td>\n",
       "      <td>147978.91</td>\n",
       "    </tr>\n",
       "  </tbody>\n",
       "</table>\n",
       "<p>461 rows × 19 columns</p>\n",
       "</div>"
      ],
      "text/plain": [
       "     SQ_CANDIDATO  ANO_ELEICAO SG_UF           DS_CARGO  NR_CANDIDATO  \\\n",
       "0    150001643207         2022    PB  DEPUTADO ESTADUAL         13999   \n",
       "1    150001718492         2022    PB  DEPUTADO ESTADUAL         36013   \n",
       "2    150001718098         2022    PB  DEPUTADO ESTADUAL         15789   \n",
       "3    150001718219         2022    PB  DEPUTADO ESTADUAL         22122   \n",
       "4    150001621356         2022    PB  DEPUTADO ESTADUAL         45745   \n",
       "..            ...          ...   ...                ...           ...   \n",
       "456  150001718225         2022    PB  DEPUTADO ESTADUAL         22300   \n",
       "457  150001603148         2022    PB  DEPUTADO ESTADUAL         44112   \n",
       "458  150001718212         2022    PB  DEPUTADO ESTADUAL         22001   \n",
       "459  150001725483         2022    PB  DEPUTADO ESTADUAL         12321   \n",
       "460  150001718205         2022    PB  DEPUTADO ESTADUAL         22444   \n",
       "\n",
       "       NM_URNA_CANDIDATO SG_PARTIDO DT_NASCIMENTO  NR_IDADE_DATA_POSSE  \\\n",
       "0           NAL DA BANCA         PT    30/11/1983                   39   \n",
       "1         NILDÃO É POVÃO       AGIR    22/04/1961                   61   \n",
       "2          ANDRE GADELHA        MDB    10/04/1975                   47   \n",
       "3           CICINHO LIMA         PL    04/09/1974                   48   \n",
       "4           ROSA TORREÃO       PSDB    26/07/1980                   42   \n",
       "..                   ...        ...           ...                  ...   \n",
       "456  WELLINGTON CARNEIRO         PL    02/07/1969                   53   \n",
       "457  PASTOR PAULINHO PAZ      UNIÃO    28/03/1985                   37   \n",
       "458     PROF SGT JOELSON         PL    15/03/1963                   59   \n",
       "459   CONCEIÇÃO OLIVEIRA        PDT    08/12/1995                   27   \n",
       "460       JOSMA OLIVEIRA         PL    25/09/1982                   40   \n",
       "\n",
       "     DS_GENERO              DS_GRAU_INSTRUCAO DS_ESTADO_CIVIL DS_COR_RACA  \\\n",
       "0    MASCULINO          ENSINO MÉDIO COMPLETO     SOLTEIRO(A)      BRANCA   \n",
       "1    MASCULINO              SUPERIOR COMPLETO       CASADO(A)       PARDA   \n",
       "2    MASCULINO              SUPERIOR COMPLETO       CASADO(A)       PARDA   \n",
       "3    MASCULINO          ENSINO MÉDIO COMPLETO       CASADO(A)       PRETA   \n",
       "4     FEMININO  ENSINO FUNDAMENTAL INCOMPLETO       CASADO(A)       PARDA   \n",
       "..         ...                            ...             ...         ...   \n",
       "456  MASCULINO              SUPERIOR COMPLETO     SOLTEIRO(A)       PARDA   \n",
       "457  MASCULINO            SUPERIOR INCOMPLETO       CASADO(A)      BRANCA   \n",
       "458  MASCULINO              SUPERIOR COMPLETO       CASADO(A)       PARDA   \n",
       "459   FEMININO          ENSINO MÉDIO COMPLETO     SOLTEIRO(A)       PARDA   \n",
       "460  MASCULINO              SUPERIOR COMPLETO     SOLTEIRO(A)      BRANCA   \n",
       "\n",
       "                                        DS_OCUPACAO  VR_DESPESA_MAX_CAMPANHA  \\\n",
       "0                                       COMERCIANTE               1270629.01   \n",
       "1                                     ADMINISTRADOR               1270629.01   \n",
       "2                                     ADMINISTRADOR               1270629.01   \n",
       "3                               CANTOR E COMPOSITOR               1270629.01   \n",
       "4                           CABELEIREIRO E BARBEIRO               1270629.01   \n",
       "..                                              ...                      ...   \n",
       "456                                          OUTROS               1270629.01   \n",
       "457                                          OUTROS               1270629.01   \n",
       "458                                          OUTROS               1270629.01   \n",
       "459  ESTUDANTE, BOLSISTA, ESTAGIÁRIO E ASSEMELHADOS               1270629.01   \n",
       "460                                      EMPRESÁRIO               1270629.01   \n",
       "\n",
       "    DS_SIT_TOT_TURNO  QT_VOTOS  VR_RECEITA  VR_BEM_CANDIDATO  \n",
       "0           SUPLENTE     331.0     6000.00               NaN  \n",
       "1         NÃO ELEITO     123.0     1347.25         200000.00  \n",
       "2           SUPLENTE   18374.0   168500.00        1387610.47  \n",
       "3           SUPLENTE   15703.0   226765.60               NaN  \n",
       "4           SUPLENTE     163.0    31500.00               NaN  \n",
       "..               ...       ...         ...               ...  \n",
       "456         SUPLENTE     182.0    15000.00               NaN  \n",
       "457       NÃO ELEITO      90.0         NaN               NaN  \n",
       "458         SUPLENTE    2228.0    15011.65          22000.00  \n",
       "459           #NULO#       NaN         NaN               NaN  \n",
       "460         SUPLENTE    3891.0    17500.00         147978.91  \n",
       "\n",
       "[461 rows x 19 columns]"
      ]
     },
     "execution_count": 95,
     "metadata": {},
     "output_type": "execute_result"
    }
   ],
   "source": [
    "import pandas as pd\n",
    "import numpy as np\n",
    "import seaborn as sns\n",
    "import matplotlib.pyplot as plt\n",
    "from statistics import mode\n",
    "from sklearn.linear_model import LinearRegression\n",
    "from sklearn.impute import SimpleImputer\n",
    "from sklearn.metrics import mean_squared_error, r2_score\n",
    "\n",
    "candidatos = pd.read_csv('dados/eleicao_2022_pb_deputado_estadual.csv')\n",
    "candidatos"
   ]
  },
  {
   "cell_type": "markdown",
   "metadata": {},
   "source": [
    "## 1 Análise exploratória de dados\n",
    "\n",
    "Inicialmente, faça uma análise exploratória das variáveis que você considerar mais importantes para a análise."
   ]
  },
  {
   "cell_type": "markdown",
   "metadata": {},
   "source": [
    "### 1.1 Análise por gênero"
   ]
  },
  {
   "cell_type": "markdown",
   "metadata": {},
   "source": [
    "#### 1.1.1 Quantidade de candidatos por gênero"
   ]
  },
  {
   "cell_type": "code",
   "execution_count": 96,
   "metadata": {},
   "outputs": [
    {
     "data": {
      "text/plain": [
       "DS_GENERO\n",
       "MASCULINO    300\n",
       "FEMININO     161\n",
       "Name: count, dtype: int64"
      ]
     },
     "execution_count": 96,
     "metadata": {},
     "output_type": "execute_result"
    }
   ],
   "source": [
    "candidatos[['DS_GENERO']].value_counts()"
   ]
  },
  {
   "cell_type": "markdown",
   "metadata": {},
   "source": [
    "#### 1.1.2 Verificando a quantidade de candidatos eleitos por gênero"
   ]
  },
  {
   "cell_type": "code",
   "execution_count": 97,
   "metadata": {},
   "outputs": [
    {
     "name": "stdout",
     "output_type": "stream",
     "text": [
      "DS_GENERO\n",
      "MASCULINO    30\n",
      "FEMININO      6\n",
      "Name: count, dtype: int64\n"
     ]
    }
   ],
   "source": [
    "eleitos_qt_media = candidatos[(candidatos['DS_SIT_TOT_TURNO'] == 'ELEITO POR QP') | (candidatos['DS_SIT_TOT_TURNO'] == 'ELEITO POR MÉDIA')]\n",
    "generoEleitos = eleitos_qt_media['DS_GENERO'].value_counts()\n",
    "print(generoEleitos)"
   ]
  },
  {
   "cell_type": "markdown",
   "metadata": {},
   "source": [
    "#### 1.1.3 Média de dados importantes entre cadidatos por gênero"
   ]
  },
  {
   "cell_type": "code",
   "execution_count": 98,
   "metadata": {},
   "outputs": [
    {
     "name": "stdout",
     "output_type": "stream",
     "text": [
      "           NR_IDADE_DATA_POSSE  QT_VOTOS  VR_RECEITA  VR_BEM_CANDIDATO\n",
      "DS_GENERO                                                             \n",
      "FEMININO                 45.55   3013.74    93170.92         551117.48\n",
      "MASCULINO                48.31   5908.35    79321.60        1053419.30\n"
     ]
    }
   ],
   "source": [
    "colunas_excluir = ['SQ_CANDIDATO', 'ANO_ELEICAO', 'NR_CANDIDATO', 'VR_DESPESA_MAX_CAMPANHA']\n",
    "dados_selecionados = candidatos.drop(columns=colunas_excluir)\n",
    "\n",
    "mediaGenero = dados_selecionados.groupby([\"DS_GENERO\"]).mean('QT_VOTOS').apply(lambda x: round(x, 2))\n",
    "print(mediaGenero)\n"
   ]
  },
  {
   "cell_type": "markdown",
   "metadata": {},
   "source": [
    "##### Gráfico 1.1"
   ]
  },
  {
   "cell_type": "code",
   "execution_count": 99,
   "metadata": {},
   "outputs": [
    {
     "data": {
      "image/png": "[encoded data removed]",
      "text/plain": [
       "<Figure size 600x500 with 1 Axes>"
      ]
     },
     "metadata": {},
     "output_type": "display_data"
    }
   ],
   "source": [
    "ax = candidatos.boxplot(by='DS_GENERO',\n",
    "  column='QT_VOTOS', figsize=(6, 5))"
   ]
  },
  {
   "cell_type": "markdown",
   "metadata": {},
   "source": [
    "#### 1.1.4 Medidas de centralidade e variância dos candidatos por gênero"
   ]
  },
  {
   "cell_type": "markdown",
   "metadata": {},
   "source": [
    "* Homens"
   ]
  },
  {
   "cell_type": "code",
   "execution_count": 100,
   "metadata": {},
   "outputs": [
    {
     "name": "stdout",
     "output_type": "stream",
     "text": [
      "Medidas de Centralidade:\n",
      "Média: 5908.35\n",
      "Mediana: nan\n",
      "Moda: 6.0\n",
      "\n",
      "Medidas de Dispersão:\n",
      "Variância: 140903870.18\n",
      "Desvio Padrão: 11870.29\n",
      "\n"
     ]
    }
   ],
   "source": [
    "candidatosHomens = candidatos[candidatos['DS_GENERO']=='MASCULINO']\n",
    "media = np.mean(candidatosHomens['QT_VOTOS'])\n",
    "mediana = np.median(candidatosHomens['QT_VOTOS'])\n",
    "moda = mode(candidatosHomens['QT_VOTOS'])\n",
    "variancia = np.var(candidatosHomens['QT_VOTOS'])\n",
    "desvio_padrao = np.std(candidatosHomens['QT_VOTOS'])\n",
    "\n",
    "resultados = (\n",
    "    \"Medidas de Centralidade:\\n\"\n",
    "    f\"Média: {media:.2f}\\n\"\n",
    "    f\"Mediana: {mediana}\\n\"\n",
    "    f\"Moda: {moda}\\n\\n\"\n",
    "    \"Medidas de Dispersão:\\n\"\n",
    "    f\"Variância: {variancia:.2f}\\n\"\n",
    "    f\"Desvio Padrão: {desvio_padrao:.2f}\\n\"\n",
    ")\n",
    "print(resultados)"
   ]
  },
  {
   "cell_type": "markdown",
   "metadata": {},
   "source": [
    "* Mulheres"
   ]
  },
  {
   "cell_type": "code",
   "execution_count": 101,
   "metadata": {},
   "outputs": [
    {
     "name": "stdout",
     "output_type": "stream",
     "text": [
      "Medidas de Centralidade:\n",
      "Média: 3013.74\n",
      "Mediana: nan\n",
      "Moda: 22.0\n",
      "\n",
      "Medidas de Dispersão:\n",
      "Variância: 65927827.30\n",
      "Desvio Padrão: 8119.60\n",
      "\n"
     ]
    }
   ],
   "source": [
    "candidatasMulheres = candidatos[candidatos['DS_GENERO']=='FEMININO']\n",
    "media = np.mean(candidatasMulheres['QT_VOTOS'])\n",
    "mediana = np.median(candidatasMulheres['QT_VOTOS'])\n",
    "moda = mode(candidatasMulheres['QT_VOTOS'])\n",
    "variancia = np.var(candidatasMulheres['QT_VOTOS'])\n",
    "desvio_padrao = np.std(candidatasMulheres['QT_VOTOS'])\n",
    "\n",
    "resultados = (\n",
    "    \"Medidas de Centralidade:\\n\"\n",
    "    f\"Média: {media:.2f}\\n\"\n",
    "    f\"Mediana: {mediana}\\n\"\n",
    "    f\"Moda: {moda}\\n\\n\"\n",
    "    \"Medidas de Dispersão:\\n\"\n",
    "    f\"Variância: {variancia:.2f}\\n\"\n",
    "    f\"Desvio Padrão: {desvio_padrao:.2f}\\n\"\n",
    ")\n",
    "print(resultados)"
   ]
  },
  {
   "cell_type": "markdown",
   "metadata": {},
   "source": [
    "### 1.2 Análise por cor ou raça"
   ]
  },
  {
   "cell_type": "markdown",
   "metadata": {},
   "source": [
    "#### 1.2.1 Quantidade de candidatos por cor ou raça"
   ]
  },
  {
   "cell_type": "code",
   "execution_count": 102,
   "metadata": {},
   "outputs": [
    {
     "data": {
      "text/plain": [
       "DS_COR_RACA\n",
       "PARDA          229\n",
       "BRANCA         165\n",
       "PRETA           64\n",
       "INDÍGENA         2\n",
       "AMARELA          1\n",
       "Name: count, dtype: int64"
      ]
     },
     "execution_count": 102,
     "metadata": {},
     "output_type": "execute_result"
    }
   ],
   "source": [
    "candidatos[['DS_COR_RACA']].value_counts()"
   ]
  },
  {
   "cell_type": "markdown",
   "metadata": {},
   "source": [
    "#### 1.2.2 Verificando a quantidade de candidatos eleitos por cor ou raça"
   ]
  },
  {
   "cell_type": "code",
   "execution_count": 103,
   "metadata": {},
   "outputs": [
    {
     "name": "stdout",
     "output_type": "stream",
     "text": [
      "DS_COR_RACA\n",
      "BRANCA    23\n",
      "PARDA     12\n",
      "PRETA      1\n",
      "Name: count, dtype: int64\n"
     ]
    }
   ],
   "source": [
    "racaEleitas = eleitos_qt_media['DS_COR_RACA'].value_counts()\n",
    "print(racaEleitas)"
   ]
  },
  {
   "cell_type": "markdown",
   "metadata": {},
   "source": [
    "#### 1.2.3 Média de dados importantes entre candidatos com base em sua cor ou raça"
   ]
  },
  {
   "cell_type": "code",
   "execution_count": 104,
   "metadata": {},
   "outputs": [
    {
     "name": "stdout",
     "output_type": "stream",
     "text": [
      "             NR_IDADE_DATA_POSSE  QT_VOTOS  VR_RECEITA  VR_BEM_CANDIDATO\n",
      "DS_COR_RACA                                                             \n",
      "AMARELA                    42.00     45.00    10000.00               NaN\n",
      "BRANCA                     48.99   7901.92   117763.83         854682.33\n",
      "INDÍGENA                   48.50    445.00    32399.00               NaN\n",
      "PARDA                      46.00   3444.10    68911.45         400927.49\n",
      "PRETA                      47.94   2081.68    56723.64        3812109.47\n"
     ]
    }
   ],
   "source": [
    "disc_media = dados_selecionados.groupby(['DS_COR_RACA']).mean('QT_VOTOS').apply(lambda x: round(x, 2))\n",
    "print(disc_media)"
   ]
  },
  {
   "cell_type": "markdown",
   "metadata": {},
   "source": [
    "##### Gráfico 1.2"
   ]
  },
  {
   "cell_type": "code",
   "execution_count": 105,
   "metadata": {},
   "outputs": [
    {
     "data": {
      "image/png": "[encoded data removed]",
      "text/plain": [
       "<Figure size 600x500 with 1 Axes>"
      ]
     },
     "metadata": {},
     "output_type": "display_data"
    }
   ],
   "source": [
    "ax = candidatos.boxplot(by='DS_COR_RACA',\n",
    "  column='QT_VOTOS', figsize=(6, 5))"
   ]
  },
  {
   "cell_type": "markdown",
   "metadata": {},
   "source": [
    "#### 1.2.4 Medidas de centralidade e variância dos candidatos por cor ou raça"
   ]
  },
  {
   "cell_type": "markdown",
   "metadata": {},
   "source": [
    "* Pardos"
   ]
  },
  {
   "cell_type": "code",
   "execution_count": 106,
   "metadata": {},
   "outputs": [
    {
     "name": "stdout",
     "output_type": "stream",
     "text": [
      "Medidas de Centralidade:\n",
      "Média: 3444.10\n",
      "Mediana: nan\n",
      "Moda: 79.0\n",
      "\n",
      "Medidas de Dispersão:\n",
      "Variância: 86458620.26\n",
      "Desvio Padrão: 9298.31\n",
      "\n"
     ]
    }
   ],
   "source": [
    "candidatosPardos = candidatos[candidatos['DS_COR_RACA']=='PARDA']\n",
    "media = np.mean(candidatosPardos['QT_VOTOS'])\n",
    "mediana = np.median(candidatosPardos['QT_VOTOS'])\n",
    "moda = mode(candidatosPardos['QT_VOTOS'])\n",
    "variancia = np.var(candidatosPardos['QT_VOTOS'])\n",
    "desvio_padrao = np.std(candidatosPardos['QT_VOTOS'])\n",
    "\n",
    "resultados = (\n",
    "    \"Medidas de Centralidade:\\n\"\n",
    "    f\"Média: {media:.2f}\\n\"\n",
    "    f\"Mediana: {mediana}\\n\"\n",
    "    f\"Moda: {moda}\\n\\n\"\n",
    "    \"Medidas de Dispersão:\\n\"\n",
    "    f\"Variância: {variancia:.2f}\\n\"\n",
    "    f\"Desvio Padrão: {desvio_padrao:.2f}\\n\"\n",
    ")\n",
    "print(resultados)"
   ]
  },
  {
   "cell_type": "markdown",
   "metadata": {},
   "source": [
    "* Brancos"
   ]
  },
  {
   "cell_type": "code",
   "execution_count": 107,
   "metadata": {},
   "outputs": [
    {
     "name": "stdout",
     "output_type": "stream",
     "text": [
      "Medidas de Centralidade:\n",
      "Média: 7901.92\n",
      "Mediana: nan\n",
      "Moda: 3.0\n",
      "\n",
      "Medidas de Dispersão:\n",
      "Variância: 174290220.20\n",
      "Desvio Padrão: 13201.90\n",
      "\n"
     ]
    }
   ],
   "source": [
    "candidatosBrancos = candidatos[candidatos['DS_COR_RACA']=='BRANCA']\n",
    "media = np.mean(candidatosBrancos['QT_VOTOS'])\n",
    "mediana = np.median(candidatosBrancos['QT_VOTOS'])\n",
    "moda = mode(candidatosBrancos['QT_VOTOS'])\n",
    "variancia = np.var(candidatosBrancos['QT_VOTOS'])\n",
    "desvio_padrao = np.std(candidatosBrancos['QT_VOTOS'])\n",
    "\n",
    "resultados = (\n",
    "    \"Medidas de Centralidade:\\n\"\n",
    "    f\"Média: {media:.2f}\\n\"\n",
    "    f\"Mediana: {mediana}\\n\"\n",
    "    f\"Moda: {moda}\\n\\n\"\n",
    "    \"Medidas de Dispersão:\\n\"\n",
    "    f\"Variância: {variancia:.2f}\\n\"\n",
    "    f\"Desvio Padrão: {desvio_padrao:.2f}\\n\"\n",
    ")\n",
    "print(resultados)"
   ]
  },
  {
   "cell_type": "markdown",
   "metadata": {},
   "source": [
    "* Pretos"
   ]
  },
  {
   "cell_type": "code",
   "execution_count": 108,
   "metadata": {},
   "outputs": [
    {
     "name": "stdout",
     "output_type": "stream",
     "text": [
      "Medidas de Centralidade:\n",
      "Média: 2081.68\n",
      "Mediana: nan\n",
      "Moda: 6.0\n",
      "\n",
      "Medidas de Dispersão:\n",
      "Variância: 29491323.72\n",
      "Desvio Padrão: 5430.59\n",
      "\n"
     ]
    }
   ],
   "source": [
    "candidatosPretos = candidatos[candidatos['DS_COR_RACA']=='PRETA']\n",
    "media = np.mean(candidatosPretos['QT_VOTOS'])\n",
    "mediana = np.median(candidatosPretos['QT_VOTOS'])\n",
    "moda = mode(candidatosPretos['QT_VOTOS'])\n",
    "variancia = np.var(candidatosPretos['QT_VOTOS'])\n",
    "desvio_padrao = np.std(candidatosPretos['QT_VOTOS'])\n",
    "\n",
    "resultados = (\n",
    "    \"Medidas de Centralidade:\\n\"\n",
    "    f\"Média: {media:.2f}\\n\"\n",
    "    f\"Mediana: {mediana}\\n\"\n",
    "    f\"Moda: {moda}\\n\\n\"\n",
    "    \"Medidas de Dispersão:\\n\"\n",
    "    f\"Variância: {variancia:.2f}\\n\"\n",
    "    f\"Desvio Padrão: {desvio_padrao:.2f}\\n\"\n",
    ")\n",
    "print(resultados)"
   ]
  },
  {
   "cell_type": "markdown",
   "metadata": {},
   "source": [
    "### 1.3 Análise por ocupação"
   ]
  },
  {
   "cell_type": "markdown",
   "metadata": {},
   "source": [
    "#### 1.3.1 Quantidade de candidatos por ocupação"
   ]
  },
  {
   "cell_type": "code",
   "execution_count": 109,
   "metadata": {},
   "outputs": [
    {
     "data": {
      "text/plain": [
       "DS_OCUPACAO      \n",
       "OUTROS               85\n",
       "EMPRESÁRIO           49\n",
       "ADVOGADO             24\n",
       "DEPUTADO             21\n",
       "COMERCIANTE          21\n",
       "                     ..\n",
       "PESCADOR              1\n",
       "PEDAGOGO              1\n",
       "MILITAR REFORMADO     1\n",
       "ODONTÓLOGO            1\n",
       "VIGILANTE             1\n",
       "Name: count, Length: 77, dtype: int64"
      ]
     },
     "execution_count": 109,
     "metadata": {},
     "output_type": "execute_result"
    }
   ],
   "source": [
    "candidatos[['DS_OCUPACAO']].value_counts()"
   ]
  },
  {
   "cell_type": "markdown",
   "metadata": {},
   "source": [
    "#### 1.3.2 Verificando a quantidade de candidatos eleitos por ocupação"
   ]
  },
  {
   "cell_type": "code",
   "execution_count": 110,
   "metadata": {},
   "outputs": [
    {
     "name": "stdout",
     "output_type": "stream",
     "text": [
      "DS_OCUPACAO\n",
      "DEPUTADO                    16\n",
      "MÉDICO                       5\n",
      "EMPRESÁRIO                   4\n",
      "OUTROS                       3\n",
      "ADVOGADO                     3\n",
      "VEREADOR                     2\n",
      "ADMINISTRADOR                1\n",
      "FARMACÊUTICO                 1\n",
      "SERVIDOR PÚBLICO FEDERAL     1\n",
      "Name: count, dtype: int64\n"
     ]
    }
   ],
   "source": [
    "ocupacoes_eleitas = eleitos_qt_media['DS_OCUPACAO'].value_counts()\n",
    "print(ocupacoes_eleitas)"
   ]
  },
  {
   "cell_type": "markdown",
   "metadata": {},
   "source": [
    "#### 1.3.3 Média dos dados importantes entre os candidatos por ocupação"
   ]
  },
  {
   "cell_type": "code",
   "execution_count": 111,
   "metadata": {},
   "outputs": [
    {
     "name": "stdout",
     "output_type": "stream",
     "text": [
      "                          NR_IDADE_DATA_POSSE  QT_VOTOS  VR_RECEITA  \\\n",
      "DS_OCUPACAO                                                           \n",
      "ADMINISTRADOR                           42.00  23577.00    87200.00   \n",
      "ADVOGADO                                39.00  31775.00   622455.00   \n",
      "DEPUTADO                                51.62  36681.56   310447.79   \n",
      "EMPRESÁRIO                              43.50  46242.00   306906.44   \n",
      "FARMACÊUTICO                            58.00  22272.00    74389.83   \n",
      "MÉDICO                                  51.60  32141.60   256460.68   \n",
      "OUTROS                                  61.67  43133.00   360409.86   \n",
      "SERVIDOR PÚBLICO FEDERAL                42.00  37235.00   370493.79   \n",
      "VEREADOR                                47.00  31344.50   114313.15   \n",
      "\n",
      "                          VR_BEM_CANDIDATO  \n",
      "DS_OCUPACAO                                 \n",
      "ADMINISTRADOR                    753251.00  \n",
      "ADVOGADO                         932219.90  \n",
      "DEPUTADO                        1661781.01  \n",
      "EMPRESÁRIO                      1292149.53  \n",
      "FARMACÊUTICO                    1157991.98  \n",
      "MÉDICO                           813799.16  \n",
      "OUTROS                          1408633.43  \n",
      "SERVIDOR PÚBLICO FEDERAL         895000.00  \n",
      "VEREADOR                         316483.68  \n"
     ]
    }
   ],
   "source": [
    "media_por_ocupacao = eleitos_qt_media.groupby('DS_OCUPACAO').agg({\n",
    "    'NR_IDADE_DATA_POSSE': 'mean',\n",
    "    'QT_VOTOS': 'mean',\n",
    "    'VR_RECEITA': 'mean',\n",
    "    'VR_BEM_CANDIDATO': 'mean'\n",
    "})\n",
    "\n",
    "media_por_ocupacao = media_por_ocupacao.round(2)\n",
    "print(media_por_ocupacao)"
   ]
  },
  {
   "cell_type": "markdown",
   "metadata": {},
   "source": [
    "#### 1.3.4 Medidas de centralidade e variância dos candidatos por ocupação"
   ]
  },
  {
   "cell_type": "markdown",
   "metadata": {},
   "source": [
    "* Deputado"
   ]
  },
  {
   "cell_type": "code",
   "execution_count": 112,
   "metadata": {},
   "outputs": [
    {
     "name": "stdout",
     "output_type": "stream",
     "text": [
      "Medidas de Centralidade:\n",
      "Média: 32729.40\n",
      "Mediana: nan\n",
      "Moda: 33272.0\n",
      "\n",
      "Medidas de Dispersão:\n",
      "Variância: 133515549.24\n",
      "Desvio Padrão: 11554.89\n",
      "\n"
     ]
    }
   ],
   "source": [
    "deputado = candidatos[candidatos['DS_OCUPACAO']=='DEPUTADO']\n",
    "media = np.mean(deputado['QT_VOTOS'])\n",
    "mediana = np.median(deputado['QT_VOTOS'])\n",
    "moda = mode(deputado['QT_VOTOS'])\n",
    "variancia = np.var(deputado['QT_VOTOS'])\n",
    "desvio_padrao = np.std(deputado['QT_VOTOS'])\n",
    "\n",
    "resultados = (\n",
    "    \"Medidas de Centralidade:\\n\"\n",
    "    f\"Média: {media:.2f}\\n\"\n",
    "    f\"Mediana: {mediana}\\n\"\n",
    "    f\"Moda: {moda}\\n\\n\"\n",
    "    \"Medidas de Dispersão:\\n\"\n",
    "    f\"Variância: {variancia:.2f}\\n\"\n",
    "    f\"Desvio Padrão: {desvio_padrao:.2f}\\n\"\n",
    ")\n",
    "print(resultados)"
   ]
  },
  {
   "cell_type": "markdown",
   "metadata": {},
   "source": [
    "* Médico"
   ]
  },
  {
   "cell_type": "code",
   "execution_count": 113,
   "metadata": {},
   "outputs": [
    {
     "name": "stdout",
     "output_type": "stream",
     "text": [
      "Medidas de Centralidade:\n",
      "Média: 20283.44\n",
      "Mediana: 22778.0\n",
      "Moda: 4179.0\n",
      "\n",
      "Medidas de Dispersão:\n",
      "Variância: 219486778.25\n",
      "Desvio Padrão: 14815.09\n",
      "\n"
     ]
    }
   ],
   "source": [
    "medico = candidatos[candidatos['DS_OCUPACAO']=='MÉDICO']\n",
    "media = np.mean(medico['QT_VOTOS'])\n",
    "mediana = np.median(medico['QT_VOTOS'])\n",
    "moda = mode(medico['QT_VOTOS'])\n",
    "variancia = np.var(medico['QT_VOTOS'])\n",
    "desvio_padrao = np.std(medico['QT_VOTOS'])\n",
    "\n",
    "resultados = (\n",
    "    \"Medidas de Centralidade:\\n\"\n",
    "    f\"Média: {media:.2f}\\n\"\n",
    "    f\"Mediana: {mediana}\\n\"\n",
    "    f\"Moda: {moda}\\n\\n\"\n",
    "    \"Medidas de Dispersão:\\n\"\n",
    "    f\"Variância: {variancia:.2f}\\n\"\n",
    "    f\"Desvio Padrão: {desvio_padrao:.2f}\\n\"\n",
    ")\n",
    "print(resultados)"
   ]
  },
  {
   "cell_type": "markdown",
   "metadata": {},
   "source": [
    "* Empresário"
   ]
  },
  {
   "cell_type": "code",
   "execution_count": 114,
   "metadata": {},
   "outputs": [
    {
     "name": "stdout",
     "output_type": "stream",
     "text": [
      "Medidas de Centralidade:\n",
      "Média: 5450.20\n",
      "Mediana: nan\n",
      "Moda: 22.0\n",
      "\n",
      "Medidas de Dispersão:\n",
      "Variância: 172117565.14\n",
      "Desvio Padrão: 13119.36\n",
      "\n"
     ]
    }
   ],
   "source": [
    "empresario = candidatos[candidatos['DS_OCUPACAO']=='EMPRESÁRIO']\n",
    "media = np.mean(empresario['QT_VOTOS'])\n",
    "mediana = np.median(empresario['QT_VOTOS'])\n",
    "moda = mode(empresario['QT_VOTOS'])\n",
    "variancia = np.var(empresario['QT_VOTOS'])\n",
    "desvio_padrao = np.std(empresario['QT_VOTOS'])\n",
    "\n",
    "resultados = (\n",
    "    \"Medidas de Centralidade:\\n\"\n",
    "    f\"Média: {media:.2f}\\n\"\n",
    "    f\"Mediana: {mediana}\\n\"\n",
    "    f\"Moda: {moda}\\n\\n\"\n",
    "    \"Medidas de Dispersão:\\n\"\n",
    "    f\"Variância: {variancia:.2f}\\n\"\n",
    "    f\"Desvio Padrão: {desvio_padrao:.2f}\\n\"\n",
    ")\n",
    "print(resultados)"
   ]
  },
  {
   "cell_type": "markdown",
   "metadata": {},
   "source": [
    "* Outros"
   ]
  },
  {
   "cell_type": "code",
   "execution_count": 115,
   "metadata": {},
   "outputs": [
    {
     "name": "stdout",
     "output_type": "stream",
     "text": [
      "Medidas de Centralidade:\n",
      "Média: 2212.09\n",
      "Mediana: nan\n",
      "Moda: 162.0\n",
      "\n",
      "Medidas de Dispersão:\n",
      "Variância: 68628516.34\n",
      "Desvio Padrão: 8284.23\n",
      "\n"
     ]
    }
   ],
   "source": [
    "outros = candidatos[candidatos['DS_OCUPACAO']=='OUTROS']\n",
    "media = np.mean(outros['QT_VOTOS'])\n",
    "mediana = np.median(outros['QT_VOTOS'])\n",
    "moda = mode(outros['QT_VOTOS'])\n",
    "variancia = np.var(outros['QT_VOTOS'])\n",
    "desvio_padrao = np.std(outros['QT_VOTOS'])\n",
    "\n",
    "resultados = (\n",
    "    \"Medidas de Centralidade:\\n\"\n",
    "    f\"Média: {media:.2f}\\n\"\n",
    "    f\"Mediana: {mediana}\\n\"\n",
    "    f\"Moda: {moda}\\n\\n\"\n",
    "    \"Medidas de Dispersão:\\n\"\n",
    "    f\"Variância: {variancia:.2f}\\n\"\n",
    "    f\"Desvio Padrão: {desvio_padrao:.2f}\\n\"\n",
    ")\n",
    "print(resultados)"
   ]
  },
  {
   "cell_type": "markdown",
   "metadata": {},
   "source": [
    "### 1.4 Análise por partido político"
   ]
  },
  {
   "cell_type": "markdown",
   "metadata": {},
   "source": [
    "#### 1.4.1 Quantidade de candidatos por partido"
   ]
  },
  {
   "cell_type": "code",
   "execution_count": 116,
   "metadata": {},
   "outputs": [
    {
     "data": {
      "text/plain": [
       "SG_PARTIDO   \n",
       "PMB              44\n",
       "PL               39\n",
       "MDB              37\n",
       "SOLIDARIEDADE    35\n",
       "PSDB             34\n",
       "UNIÃO            33\n",
       "PT               28\n",
       "DC               26\n",
       "REDE             25\n",
       "PSB              24\n",
       "REPUBLICANOS     22\n",
       "PTB              20\n",
       "AGIR             20\n",
       "PRTB             18\n",
       "PSD              17\n",
       "PP               14\n",
       "PSOL             12\n",
       "PC do B           6\n",
       "PDT               4\n",
       "PROS              2\n",
       "PV                1\n",
       "Name: count, dtype: int64"
      ]
     },
     "execution_count": 116,
     "metadata": {},
     "output_type": "execute_result"
    }
   ],
   "source": [
    "candidatos[['SG_PARTIDO']].value_counts()"
   ]
  },
  {
   "cell_type": "markdown",
   "metadata": {},
   "source": [
    "#### 1.4.2 Verificando a quantidade de cadidantos eleitos por partido"
   ]
  },
  {
   "cell_type": "code",
   "execution_count": 117,
   "metadata": {},
   "outputs": [
    {
     "name": "stdout",
     "output_type": "stream",
     "text": [
      "SG_PARTIDO\n",
      "REPUBLICANOS     8\n",
      "PSB              6\n",
      "PP               4\n",
      "PSDB             3\n",
      "UNIÃO            3\n",
      "PL               3\n",
      "MDB              2\n",
      "PT               2\n",
      "SOLIDARIEDADE    2\n",
      "REDE             1\n",
      "PSD              1\n",
      "PC do B          1\n",
      "Name: count, dtype: int64\n"
     ]
    }
   ],
   "source": [
    "partidoEleitos = eleitos_qt_media['SG_PARTIDO'].value_counts()\n",
    "print(partidoEleitos)"
   ]
  },
  {
   "cell_type": "markdown",
   "metadata": {},
   "source": [
    "#### 1.4.3 Média dos dados importantes entre os candidatos por partido"
   ]
  },
  {
   "cell_type": "code",
   "execution_count": 118,
   "metadata": {},
   "outputs": [
    {
     "name": "stdout",
     "output_type": "stream",
     "text": [
      "               NR_IDADE_DATA_POSSE  QT_VOTOS  VR_RECEITA  VR_BEM_CANDIDATO\n",
      "SG_PARTIDO                                                                \n",
      "AGIR                         47.60    218.63     1347.25         214090.91\n",
      "DC                           47.88    256.36    11735.05         246269.23\n",
      "MDB                          46.35   2901.51    64601.17        5261591.06\n",
      "PC do B                      50.83   7869.50   126562.50         433750.00\n",
      "PDT                          42.25    787.00    24555.56         180000.00\n",
      "PL                           49.51   5285.29    49566.46         430372.30\n",
      "PMB                          44.48    331.11     4650.00         530921.88\n",
      "PP                           50.36  16015.93   318830.07         630620.42\n",
      "PROS                         31.00     21.00         NaN         213476.07\n",
      "PRTB                         46.78    794.41     5305.97         313344.09\n",
      "PSB                          53.96  13919.14   111624.43         628624.63\n",
      "PSD                          43.35   5957.59   161925.31        1028772.42\n",
      "PSDB                         45.09   5913.79   105281.60         941957.60\n",
      "PSOL                         49.92    672.00    18937.76         206000.00\n",
      "PT                           49.82   3540.07    51649.89         563290.32\n",
      "PTB                          47.40    374.45    12676.50         463600.57\n",
      "PV                           49.00    107.00         NaN               NaN\n",
      "REDE                         45.84   2568.44    62328.12         456425.92\n",
      "REPUBLICANOS                 49.23  18874.23   253012.64        1477017.43\n",
      "SOLIDARIEDADE                47.60   3743.09    24950.97         283258.97\n",
      "UNIÃO                        45.18   5516.81   193040.98         525783.47\n"
     ]
    }
   ],
   "source": [
    "disc_media = dados_selecionados.groupby([\"SG_PARTIDO\"]).mean('QT_VOTOS').apply(lambda x: round(x, 2))\n",
    "print(disc_media)"
   ]
  },
  {
   "cell_type": "markdown",
   "metadata": {},
   "source": [
    "##### Gráfico 1.3"
   ]
  },
  {
   "cell_type": "code",
   "execution_count": 119,
   "metadata": {},
   "outputs": [
    {
     "data": {
      "image/png": "[encoded data removed]",
      "text/plain": [
       "<Figure size 3000x1000 with 1 Axes>"
      ]
     },
     "metadata": {},
     "output_type": "display_data"
    }
   ],
   "source": [
    "ax = candidatos.boxplot(by='SG_PARTIDO',\n",
    "  column='QT_VOTOS', figsize=(30, 10))"
   ]
  },
  {
   "cell_type": "markdown",
   "metadata": {},
   "source": [
    "#### 1.4.4 Medidas de centralidade e variância por partido"
   ]
  },
  {
   "cell_type": "markdown",
   "metadata": {},
   "source": [
    "* Republicanos"
   ]
  },
  {
   "cell_type": "code",
   "execution_count": 120,
   "metadata": {},
   "outputs": [
    {
     "name": "stdout",
     "output_type": "stream",
     "text": [
      "Medidas de Centralidade:\n",
      "Média: 18874.23\n",
      "Mediana: 14220.5\n",
      "Moda: 33272.0\n",
      "\n",
      "Medidas de Dispersão:\n",
      "Variância: 369437364.81\n",
      "Desvio Padrão: 19220.75\n",
      "\n"
     ]
    }
   ],
   "source": [
    "republicanos = candidatos[candidatos['SG_PARTIDO']=='REPUBLICANOS']\n",
    "media = np.mean(republicanos['QT_VOTOS'])\n",
    "mediana = np.median(republicanos['QT_VOTOS'])\n",
    "moda = mode(republicanos['QT_VOTOS'])\n",
    "variancia = np.var(republicanos['QT_VOTOS'])\n",
    "desvio_padrao = np.std(republicanos['QT_VOTOS'])\n",
    "\n",
    "resultados = (\n",
    "    \"Medidas de Centralidade:\\n\"\n",
    "    f\"Média: {media:.2f}\\n\"\n",
    "    f\"Mediana: {mediana}\\n\"\n",
    "    f\"Moda: {moda}\\n\\n\"\n",
    "    \"Medidas de Dispersão:\\n\"\n",
    "    f\"Variância: {variancia:.2f}\\n\"\n",
    "    f\"Desvio Padrão: {desvio_padrao:.2f}\\n\"\n",
    ")\n",
    "print(resultados)"
   ]
  },
  {
   "cell_type": "markdown",
   "metadata": {},
   "source": [
    "* PSB"
   ]
  },
  {
   "cell_type": "code",
   "execution_count": 121,
   "metadata": {},
   "outputs": [
    {
     "name": "stdout",
     "output_type": "stream",
     "text": [
      "Medidas de Centralidade:\n",
      "Média: 13919.14\n",
      "Mediana: nan\n",
      "Moda: 42087.0\n",
      "\n",
      "Medidas de Dispersão:\n",
      "Variância: 283689138.57\n",
      "Desvio Padrão: 16843.07\n",
      "\n"
     ]
    }
   ],
   "source": [
    "psb = candidatos[candidatos['SG_PARTIDO']=='PSB']\n",
    "media = np.mean(psb['QT_VOTOS'])\n",
    "mediana = np.median(psb['QT_VOTOS'])\n",
    "moda = mode(psb['QT_VOTOS'])\n",
    "variancia = np.var(psb['QT_VOTOS'])\n",
    "desvio_padrao = np.std(psb['QT_VOTOS'])\n",
    "\n",
    "resultados = (\n",
    "    \"Medidas de Centralidade:\\n\"\n",
    "    f\"Média: {media:.2f}\\n\"\n",
    "    f\"Mediana: {mediana}\\n\"\n",
    "    f\"Moda: {moda}\\n\\n\"\n",
    "    \"Medidas de Dispersão:\\n\"\n",
    "    f\"Variância: {variancia:.2f}\\n\"\n",
    "    f\"Desvio Padrão: {desvio_padrao:.2f}\\n\"\n",
    ")\n",
    "print(resultados)"
   ]
  },
  {
   "cell_type": "markdown",
   "metadata": {},
   "source": [
    "* PP"
   ]
  },
  {
   "cell_type": "code",
   "execution_count": 122,
   "metadata": {},
   "outputs": [
    {
     "name": "stdout",
     "output_type": "stream",
     "text": [
      "Medidas de Centralidade:\n",
      "Média: 16015.93\n",
      "Mediana: 7916.5\n",
      "Moda: 5974.0\n",
      "\n",
      "Medidas de Dispersão:\n",
      "Variância: 290633856.78\n",
      "Desvio Padrão: 17047.99\n",
      "\n"
     ]
    }
   ],
   "source": [
    "pp = candidatos[candidatos['SG_PARTIDO']=='PP']\n",
    "media = np.mean(pp['QT_VOTOS'])\n",
    "mediana = np.median(pp['QT_VOTOS'])\n",
    "moda = mode(pp['QT_VOTOS'])\n",
    "variancia = np.var(pp['QT_VOTOS'])\n",
    "desvio_padrao = np.std(pp['QT_VOTOS'])\n",
    "\n",
    "resultados = (\n",
    "    \"Medidas de Centralidade:\\n\"\n",
    "    f\"Média: {media:.2f}\\n\"\n",
    "    f\"Mediana: {mediana}\\n\"\n",
    "    f\"Moda: {moda}\\n\\n\"\n",
    "    \"Medidas de Dispersão:\\n\"\n",
    "    f\"Variância: {variancia:.2f}\\n\"\n",
    "    f\"Desvio Padrão: {desvio_padrao:.2f}\\n\"\n",
    ")\n",
    "print(resultados)"
   ]
  },
  {
   "cell_type": "markdown",
   "metadata": {},
   "source": [
    "* PSDB"
   ]
  },
  {
   "cell_type": "code",
   "execution_count": 123,
   "metadata": {},
   "outputs": [
    {
     "name": "stdout",
     "output_type": "stream",
     "text": [
      "Medidas de Centralidade:\n",
      "Média: 5913.79\n",
      "Mediana: 1231.5\n",
      "Moda: 163.0\n",
      "\n",
      "Medidas de Dispersão:\n",
      "Variância: 116201055.10\n",
      "Desvio Padrão: 10779.66\n",
      "\n"
     ]
    }
   ],
   "source": [
    "psdb = candidatos[candidatos['SG_PARTIDO']=='PSDB']\n",
    "media = np.mean(psdb['QT_VOTOS'])\n",
    "mediana = np.median(psdb['QT_VOTOS'])\n",
    "moda = mode(psdb['QT_VOTOS'])\n",
    "variancia = np.var(psdb['QT_VOTOS'])\n",
    "desvio_padrao = np.std(psdb['QT_VOTOS'])\n",
    "\n",
    "resultados = (\n",
    "    \"Medidas de Centralidade:\\n\"\n",
    "    f\"Média: {media:.2f}\\n\"\n",
    "    f\"Mediana: {mediana}\\n\"\n",
    "    f\"Moda: {moda}\\n\\n\"\n",
    "    \"Medidas de Dispersão:\\n\"\n",
    "    f\"Variância: {variancia:.2f}\\n\"\n",
    "    f\"Desvio Padrão: {desvio_padrao:.2f}\\n\"\n",
    ")\n",
    "print(resultados)"
   ]
  },
  {
   "cell_type": "markdown",
   "metadata": {},
   "source": [
    "* União"
   ]
  },
  {
   "cell_type": "code",
   "execution_count": 124,
   "metadata": {},
   "outputs": [
    {
     "name": "stdout",
     "output_type": "stream",
     "text": [
      "Medidas de Centralidade:\n",
      "Média: 5516.81\n",
      "Mediana: nan\n",
      "Moda: 445.0\n",
      "\n",
      "Medidas de Dispersão:\n",
      "Variância: 81160073.71\n",
      "Desvio Padrão: 9008.89\n",
      "\n"
     ]
    }
   ],
   "source": [
    "uniao = candidatos[candidatos['SG_PARTIDO']=='UNIÃO']\n",
    "media = np.mean(uniao['QT_VOTOS'])\n",
    "mediana = np.median(uniao['QT_VOTOS'])\n",
    "moda = mode(uniao['QT_VOTOS'])\n",
    "variancia = np.var(uniao['QT_VOTOS'])\n",
    "desvio_padrao = np.std(uniao['QT_VOTOS'])\n",
    "\n",
    "resultados = (\n",
    "    \"Medidas de Centralidade:\\n\"\n",
    "    f\"Média: {media:.2f}\\n\"\n",
    "    f\"Mediana: {mediana}\\n\"\n",
    "    f\"Moda: {moda}\\n\\n\"\n",
    "    \"Medidas de Dispersão:\\n\"\n",
    "    f\"Variância: {variancia:.2f}\\n\"\n",
    "    f\"Desvio Padrão: {desvio_padrao:.2f}\\n\"\n",
    ")\n",
    "print(resultados)"
   ]
  },
  {
   "cell_type": "markdown",
   "metadata": {},
   "source": [
    "* PL"
   ]
  },
  {
   "cell_type": "code",
   "execution_count": 125,
   "metadata": {},
   "outputs": [
    {
     "name": "stdout",
     "output_type": "stream",
     "text": [
      "Medidas de Centralidade:\n",
      "Média: 5285.29\n",
      "Mediana: nan\n",
      "Moda: 15703.0\n",
      "\n",
      "Medidas de Dispersão:\n",
      "Variância: 117498536.33\n",
      "Desvio Padrão: 10839.67\n",
      "\n"
     ]
    }
   ],
   "source": [
    "pl = candidatos[candidatos['SG_PARTIDO']=='PL']\n",
    "media = np.mean(pl['QT_VOTOS'])\n",
    "mediana = np.median(pl['QT_VOTOS'])\n",
    "moda = mode(pl['QT_VOTOS'])\n",
    "variancia = np.var(pl['QT_VOTOS'])\n",
    "desvio_padrao = np.std(pl['QT_VOTOS'])\n",
    "\n",
    "resultados = (\n",
    "    \"Medidas de Centralidade:\\n\"\n",
    "    f\"Média: {media:.2f}\\n\"\n",
    "    f\"Mediana: {mediana}\\n\"\n",
    "    f\"Moda: {moda}\\n\\n\"\n",
    "    \"Medidas de Dispersão:\\n\"\n",
    "    f\"Variância: {variancia:.2f}\\n\"\n",
    "    f\"Desvio Padrão: {desvio_padrao:.2f}\\n\"\n",
    ")\n",
    "print(resultados)"
   ]
  },
  {
   "cell_type": "markdown",
   "metadata": {},
   "source": [
    "### 1.5 Análise por escolaridade"
   ]
  },
  {
   "cell_type": "markdown",
   "metadata": {},
   "source": [
    "#### 1.5.1 Quantidade de candidatos por grau de escolaridade"
   ]
  },
  {
   "cell_type": "code",
   "execution_count": 126,
   "metadata": {},
   "outputs": [
    {
     "data": {
      "text/plain": [
       "DS_GRAU_INSTRUCAO            \n",
       "SUPERIOR COMPLETO                217\n",
       "ENSINO MÉDIO COMPLETO            147\n",
       "SUPERIOR INCOMPLETO               39\n",
       "ENSINO FUNDAMENTAL COMPLETO       27\n",
       "ENSINO FUNDAMENTAL INCOMPLETO     15\n",
       "ENSINO MÉDIO INCOMPLETO           14\n",
       "LÊ E ESCREVE                       2\n",
       "Name: count, dtype: int64"
      ]
     },
     "execution_count": 126,
     "metadata": {},
     "output_type": "execute_result"
    }
   ],
   "source": [
    "candidatos[['DS_GRAU_INSTRUCAO']].value_counts()"
   ]
  },
  {
   "cell_type": "markdown",
   "metadata": {},
   "source": [
    "#### 1.5.2 Verificando a quantidade de candidatos eleitos por grau de escolaridade"
   ]
  },
  {
   "cell_type": "code",
   "execution_count": 127,
   "metadata": {},
   "outputs": [
    {
     "name": "stdout",
     "output_type": "stream",
     "text": [
      "DS_GRAU_INSTRUCAO\n",
      "SUPERIOR COMPLETO                29\n",
      "SUPERIOR INCOMPLETO               3\n",
      "ENSINO MÉDIO COMPLETO             3\n",
      "ENSINO FUNDAMENTAL INCOMPLETO     1\n",
      "Name: count, dtype: int64\n"
     ]
    }
   ],
   "source": [
    "escolaridadeEleitas = eleitos_qt_media['DS_GRAU_INSTRUCAO'].value_counts()\n",
    "print(escolaridadeEleitas)"
   ]
  },
  {
   "cell_type": "markdown",
   "metadata": {},
   "source": [
    "#### 1.5.3 Média dos dados importantes entre os candidatos por grau de escolaridade"
   ]
  },
  {
   "cell_type": "code",
   "execution_count": 128,
   "metadata": {},
   "outputs": [
    {
     "name": "stdout",
     "output_type": "stream",
     "text": [
      "                               NR_IDADE_DATA_POSSE  QT_VOTOS  VR_RECEITA  \\\n",
      "DS_GRAU_INSTRUCAO                                                          \n",
      "ENSINO FUNDAMENTAL COMPLETO                  51.04    494.39    14058.88   \n",
      "ENSINO FUNDAMENTAL INCOMPLETO                49.67   3075.17    57769.11   \n",
      "ENSINO MÉDIO COMPLETO                        46.10   1716.55    43722.95   \n",
      "ENSINO MÉDIO INCOMPLETO                      44.64    926.71    28028.94   \n",
      "LÊ E ESCREVE                                 54.50    494.50    12550.00   \n",
      "SUPERIOR COMPLETO                            48.40   7903.91   118687.41   \n",
      "SUPERIOR INCOMPLETO                          43.28   4585.34   101444.81   \n",
      "\n",
      "                               VR_BEM_CANDIDATO  \n",
      "DS_GRAU_INSTRUCAO                                \n",
      "ENSINO FUNDAMENTAL COMPLETO           234704.00  \n",
      "ENSINO FUNDAMENTAL INCOMPLETO         156833.25  \n",
      "ENSINO MÉDIO COMPLETO                1877460.30  \n",
      "ENSINO MÉDIO INCOMPLETO               262108.23  \n",
      "LÊ E ESCREVE                                NaN  \n",
      "SUPERIOR COMPLETO                     731842.29  \n",
      "SUPERIOR INCOMPLETO                   346524.08  \n"
     ]
    }
   ],
   "source": [
    "disc_media = dados_selecionados.groupby([\"DS_GRAU_INSTRUCAO\"]).mean('QT_VOTOS').apply(lambda x: round(x, 2))\n",
    "print(disc_media)"
   ]
  },
  {
   "cell_type": "markdown",
   "metadata": {},
   "source": [
    "##### Gráfico 1.4"
   ]
  },
  {
   "cell_type": "code",
   "execution_count": 129,
   "metadata": {},
   "outputs": [
    {
     "data": {
      "image/png": "[encoded data removed]",
      "text/plain": [
       "<Figure size 2300x1000 with 1 Axes>"
      ]
     },
     "metadata": {},
     "output_type": "display_data"
    }
   ],
   "source": [
    "ax = candidatos.boxplot(by='DS_GRAU_INSTRUCAO',\n",
    "  column='QT_VOTOS', figsize=(23, 10))"
   ]
  },
  {
   "cell_type": "markdown",
   "metadata": {},
   "source": [
    "#### 1.5.4 Medidas de centralidade e variância por grau de escolaridade"
   ]
  },
  {
   "cell_type": "markdown",
   "metadata": {},
   "source": [
    "* Superior completo"
   ]
  },
  {
   "cell_type": "code",
   "execution_count": 130,
   "metadata": {},
   "outputs": [
    {
     "name": "stdout",
     "output_type": "stream",
     "text": [
      "Medidas de Centralidade:\n",
      "Média: 7903.91\n",
      "Mediana: nan\n",
      "Moda: 3.0\n",
      "\n",
      "Medidas de Dispersão:\n",
      "Variância: 168013275.23\n",
      "Desvio Padrão: 12961.99\n",
      "\n"
     ]
    }
   ],
   "source": [
    "superCompleto = candidatos[candidatos['DS_GRAU_INSTRUCAO']=='SUPERIOR COMPLETO']\n",
    "media = np.mean(superCompleto['QT_VOTOS'])\n",
    "mediana = np.median(superCompleto['QT_VOTOS'])\n",
    "moda = mode(superCompleto['QT_VOTOS'])\n",
    "variancia = np.var(superCompleto['QT_VOTOS'])\n",
    "desvio_padrao = np.std(superCompleto['QT_VOTOS'])\n",
    "\n",
    "resultados = (\n",
    "    \"Medidas de Centralidade:\\n\"\n",
    "    f\"Média: {media:.2f}\\n\"\n",
    "    f\"Mediana: {mediana}\\n\"\n",
    "    f\"Moda: {moda}\\n\\n\"\n",
    "    \"Medidas de Dispersão:\\n\"\n",
    "    f\"Variância: {variancia:.2f}\\n\"\n",
    "    f\"Desvio Padrão: {desvio_padrao:.2f}\\n\"\n",
    ")\n",
    "print(resultados)"
   ]
  },
  {
   "cell_type": "markdown",
   "metadata": {},
   "source": [
    "* Superior incompleto"
   ]
  },
  {
   "cell_type": "code",
   "execution_count": 131,
   "metadata": {},
   "outputs": [
    {
     "name": "stdout",
     "output_type": "stream",
     "text": [
      "Medidas de Centralidade:\n",
      "Média: 4585.34\n",
      "Mediana: nan\n",
      "Moda: 232.0\n",
      "\n",
      "Medidas de Dispersão:\n",
      "Variância: 127008342.23\n",
      "Desvio Padrão: 11269.80\n",
      "\n"
     ]
    }
   ],
   "source": [
    "superincompleto = candidatos[candidatos['DS_GRAU_INSTRUCAO']=='SUPERIOR INCOMPLETO']\n",
    "media = np.mean(superincompleto['QT_VOTOS'])\n",
    "mediana = np.median(superincompleto['QT_VOTOS'])\n",
    "moda = mode(superincompleto['QT_VOTOS'])\n",
    "variancia = np.var(superincompleto['QT_VOTOS'])\n",
    "desvio_padrao = np.std(superincompleto['QT_VOTOS'])\n",
    "\n",
    "resultados = (\n",
    "    \"Medidas de Centralidade:\\n\"\n",
    "    f\"Média: {media:.2f}\\n\"\n",
    "    f\"Mediana: {mediana}\\n\"\n",
    "    f\"Moda: {moda}\\n\\n\"\n",
    "    \"Medidas de Dispersão:\\n\"\n",
    "    f\"Variância: {variancia:.2f}\\n\"\n",
    "    f\"Desvio Padrão: {desvio_padrao:.2f}\\n\"\n",
    ")\n",
    "print(resultados)"
   ]
  },
  {
   "cell_type": "markdown",
   "metadata": {},
   "source": [
    "* Ensino Médio completo"
   ]
  },
  {
   "cell_type": "code",
   "execution_count": 132,
   "metadata": {},
   "outputs": [
    {
     "name": "stdout",
     "output_type": "stream",
     "text": [
      "Medidas de Centralidade:\n",
      "Média: 1716.55\n",
      "Mediana: nan\n",
      "Moda: 79.0\n",
      "\n",
      "Medidas de Dispersão:\n",
      "Variância: 39669268.77\n",
      "Desvio Padrão: 6298.35\n",
      "\n"
     ]
    }
   ],
   "source": [
    "medioCompleto = candidatos[candidatos['DS_GRAU_INSTRUCAO']=='ENSINO MÉDIO COMPLETO']\n",
    "media = np.mean(medioCompleto['QT_VOTOS'])\n",
    "mediana = np.median(medioCompleto['QT_VOTOS'])\n",
    "moda = mode(medioCompleto['QT_VOTOS'])\n",
    "variancia = np.var(medioCompleto['QT_VOTOS'])\n",
    "desvio_padrao = np.std(medioCompleto['QT_VOTOS'])\n",
    "\n",
    "resultados = (\n",
    "    \"Medidas de Centralidade:\\n\"\n",
    "    f\"Média: {media:.2f}\\n\"\n",
    "    f\"Mediana: {mediana}\\n\"\n",
    "    f\"Moda: {moda}\\n\\n\"\n",
    "    \"Medidas de Dispersão:\\n\"\n",
    "    f\"Variância: {variancia:.2f}\\n\"\n",
    "    f\"Desvio Padrão: {desvio_padrao:.2f}\\n\"\n",
    ")\n",
    "print(resultados)"
   ]
  },
  {
   "cell_type": "markdown",
   "metadata": {},
   "source": [
    "* Ensino fundamental incompleto"
   ]
  },
  {
   "cell_type": "code",
   "execution_count": 133,
   "metadata": {},
   "outputs": [
    {
     "name": "stdout",
     "output_type": "stream",
     "text": [
      "Medidas de Centralidade:\n",
      "Média: 3075.17\n",
      "Mediana: nan\n",
      "Moda: 163.0\n",
      "\n",
      "Medidas de Dispersão:\n",
      "Variância: 89522686.31\n",
      "Desvio Padrão: 9461.64\n",
      "\n"
     ]
    }
   ],
   "source": [
    "fundIncompleto = candidatos[candidatos['DS_GRAU_INSTRUCAO']=='ENSINO FUNDAMENTAL INCOMPLETO']\n",
    "media = np.mean(fundIncompleto['QT_VOTOS'])\n",
    "mediana = np.median(fundIncompleto['QT_VOTOS'])\n",
    "moda = mode(fundIncompleto['QT_VOTOS'])\n",
    "variancia = np.var(fundIncompleto['QT_VOTOS'])\n",
    "desvio_padrao = np.std(fundIncompleto['QT_VOTOS'])\n",
    "\n",
    "resultados = (\n",
    "    \"Medidas de Centralidade:\\n\"\n",
    "    f\"Média: {media:.2f}\\n\"\n",
    "    f\"Mediana: {mediana}\\n\"\n",
    "    f\"Moda: {moda}\\n\\n\"\n",
    "    \"Medidas de Dispersão:\\n\"\n",
    "    f\"Variância: {variancia:.2f}\\n\"\n",
    "    f\"Desvio Padrão: {desvio_padrao:.2f}\\n\"\n",
    ")\n",
    "print(resultados)"
   ]
  },
  {
   "cell_type": "markdown",
   "metadata": {},
   "source": [
    "## 2 Análise das relações entre variáveis\n",
    "\n",
    "Faça uma análise das relações entre as variáveis em questão. Você pode começar\n",
    "com uma análise gráfica das relações entre variáveis, para depois partir para\n",
    "análise de correlação. Explique se existem variáveis com forte impacto no número de votos e na chance do candidato ser eleito."
   ]
  },
  {
   "cell_type": "markdown",
   "metadata": {},
   "source": [
    "### 2.1 Averiguando se existe alguma correlação entre o número de votos e a receita gasta na campanha"
   ]
  },
  {
   "cell_type": "markdown",
   "metadata": {},
   "source": [
    "Para essa análise usaremos o metódo linear para averiguar se há alguma correlação entre essas duas variáveis. A seguir o *Gráfico 2.1* para termos uma representação visual dessa análise."
   ]
  },
  {
   "cell_type": "markdown",
   "metadata": {},
   "source": [
    "#### Gráfico 2.1"
   ]
  },
  {
   "cell_type": "code",
   "execution_count": 134,
   "metadata": {},
   "outputs": [
    {
     "name": "stderr",
     "output_type": "stream",
     "text": [
      "c:\\Users\\bruns\\anaconda\\Lib\\site-packages\\seaborn\\axisgrid.py:118: UserWarning: The figure layout has changed to tight\n",
      "  self._figure.tight_layout(*args, **kwargs)\n"
     ]
    },
    {
     "data": {
      "text/plain": [
       "<seaborn.axisgrid.FacetGrid at 0x17b32531a10>"
      ]
     },
     "execution_count": 134,
     "metadata": {},
     "output_type": "execute_result"
    },
    {
     "data": {
      "image/png": "[encoded data removed]",
      "text/plain": [
       "<Figure size 600x600 with 1 Axes>"
      ]
     },
     "metadata": {},
     "output_type": "display_data"
    }
   ],
   "source": [
    "sns.lmplot(\n",
    "    data=candidatos, x=\"VR_RECEITA\", y=\"QT_VOTOS\",\n",
    "    palette=\"muted\", ci=None, height=6, scatter_kws={\"s\": 20, \"alpha\": 1}\n",
    ")"
   ]
  },
  {
   "cell_type": "markdown",
   "metadata": {},
   "source": [
    "É perceptível que a quantidade de dinheiro investido na campanha influencia diretamente na quantidade de votos recebidos, com os candidatos recebendo mais votos quando investem mais em sua campanha. Adiante, usaremos outros métodos de análise para termos maior precisão na análise."
   ]
  },
  {
   "cell_type": "code",
   "execution_count": 135,
   "metadata": {},
   "outputs": [
    {
     "data": {
      "text/html": [
       "<div>\n",
       "<style scoped>\n",
       "    .dataframe tbody tr th:only-of-type {\n",
       "        vertical-align: middle;\n",
       "    }\n",
       "\n",
       "    .dataframe tbody tr th {\n",
       "        vertical-align: top;\n",
       "    }\n",
       "\n",
       "    .dataframe thead th {\n",
       "        text-align: right;\n",
       "    }\n",
       "</style>\n",
       "<table border=\"1\" class=\"dataframe\">\n",
       "  <thead>\n",
       "    <tr style=\"text-align: right;\">\n",
       "      <th></th>\n",
       "      <th>correlacao</th>\n",
       "    </tr>\n",
       "  </thead>\n",
       "  <tbody>\n",
       "    <tr>\n",
       "      <th>pearson</th>\n",
       "      <td>0.561157</td>\n",
       "    </tr>\n",
       "    <tr>\n",
       "      <th>spearman</th>\n",
       "      <td>0.716357</td>\n",
       "    </tr>\n",
       "    <tr>\n",
       "      <th>kendall</th>\n",
       "      <td>0.521898</td>\n",
       "    </tr>\n",
       "  </tbody>\n",
       "</table>\n",
       "</div>"
      ],
      "text/plain": [
       "          correlacao\n",
       "pearson     0.561157\n",
       "spearman    0.716357\n",
       "kendall     0.521898"
      ]
     },
     "execution_count": 135,
     "metadata": {},
     "output_type": "execute_result"
    }
   ],
   "source": [
    "pd.Series({\n",
    "    'pearson': candidatos.VR_RECEITA.corr(candidatos.QT_VOTOS, method='pearson'),\n",
    "    'spearman': candidatos.VR_RECEITA.corr(candidatos.QT_VOTOS, method='spearman'),\n",
    "    'kendall': candidatos.VR_RECEITA.corr(candidatos.QT_VOTOS, method='kendall')\n",
    "}, name='correlacao').to_frame()\n"
   ]
  },
  {
   "cell_type": "markdown",
   "metadata": {},
   "source": [
    "Analisando os dados com os métodos Pearson, Kendall e Spearman chegamos aos seguintes resultados:\n",
    "\n",
    "* A correlação Pearson indica que há uma correlação positiva moderada entre os dados, pois o resultado está entre 0,5 e 0,7;\n",
    "\n",
    "* A correlação Spearman mostra haver uma correlação positiva forte entre os dados, pois o resultado está entre 0,7 e 1;\n",
    "\n",
    "* A correlação Kendall aponta uma média concordância entre as duas variáveis, pois seu valor está entre 0,5 e 1.\n",
    "\n",
    "Em resumo, esses valores indicam que há uma média relação positiva entre as duas variáveis, sendo mais forte segundo o método de Spearman, seguido por Pearson e depois Kendall."
   ]
  },
  {
   "cell_type": "markdown",
   "metadata": {},
   "source": [
    "### 2.2 Verificando se há alguma relação entre os bens dos candidatos e os a quantidade de votos recebidos"
   ]
  },
  {
   "cell_type": "markdown",
   "metadata": {},
   "source": [
    "Inicialmente usaremos o metódo linear para investigar se há alguma correlação entre essas duas variáveis. A seguir o *Gráfico 2.1* para termos uma representação visual dessa análise."
   ]
  },
  {
   "cell_type": "markdown",
   "metadata": {},
   "source": [
    "#### Gráfico 2.2"
   ]
  },
  {
   "cell_type": "code",
   "execution_count": 136,
   "metadata": {},
   "outputs": [
    {
     "name": "stderr",
     "output_type": "stream",
     "text": [
      "c:\\Users\\bruns\\anaconda\\Lib\\site-packages\\seaborn\\axisgrid.py:118: UserWarning: The figure layout has changed to tight\n",
      "  self._figure.tight_layout(*args, **kwargs)\n"
     ]
    },
    {
     "data": {
      "text/plain": [
       "<seaborn.axisgrid.FacetGrid at 0x17b31f936d0>"
      ]
     },
     "execution_count": 136,
     "metadata": {},
     "output_type": "execute_result"
    },
    {
     "data": {
      "image/png": "[encoded data removed]",
      "text/plain": [
       "<Figure size 700x700 with 1 Axes>"
      ]
     },
     "metadata": {},
     "output_type": "display_data"
    }
   ],
   "source": [
    "sns.lmplot(\n",
    "    data=candidatos, x=\"VR_BEM_CANDIDATO\", y=\"QT_VOTOS\",\n",
    "    palette=\"muted\", ci=None, height=7, scatter_kws={\"s\": 20, \"alpha\": 1}\n",
    ")"
   ]
  },
  {
   "cell_type": "markdown",
   "metadata": {},
   "source": [
    "É notório que não há uma relação concreta entre as variáveis, fazendo com que seja difícil concluir se a quantidade de bens do candidato influencia diretamente na quantidade de votos que ele recebeu. Para termos uma conclusão mais precisa, utilizaremos outros métodos de análise."
   ]
  },
  {
   "cell_type": "code",
   "execution_count": 137,
   "metadata": {},
   "outputs": [
    {
     "data": {
      "text/html": [
       "<div>\n",
       "<style scoped>\n",
       "    .dataframe tbody tr th:only-of-type {\n",
       "        vertical-align: middle;\n",
       "    }\n",
       "\n",
       "    .dataframe tbody tr th {\n",
       "        vertical-align: top;\n",
       "    }\n",
       "\n",
       "    .dataframe thead th {\n",
       "        text-align: right;\n",
       "    }\n",
       "</style>\n",
       "<table border=\"1\" class=\"dataframe\">\n",
       "  <thead>\n",
       "    <tr style=\"text-align: right;\">\n",
       "      <th></th>\n",
       "      <th>correlacao</th>\n",
       "    </tr>\n",
       "  </thead>\n",
       "  <tbody>\n",
       "    <tr>\n",
       "      <th>pearson</th>\n",
       "      <td>0.027539</td>\n",
       "    </tr>\n",
       "    <tr>\n",
       "      <th>spearman</th>\n",
       "      <td>0.443874</td>\n",
       "    </tr>\n",
       "    <tr>\n",
       "      <th>kendall</th>\n",
       "      <td>0.302850</td>\n",
       "    </tr>\n",
       "  </tbody>\n",
       "</table>\n",
       "</div>"
      ],
      "text/plain": [
       "          correlacao\n",
       "pearson     0.027539\n",
       "spearman    0.443874\n",
       "kendall     0.302850"
      ]
     },
     "execution_count": 137,
     "metadata": {},
     "output_type": "execute_result"
    }
   ],
   "source": [
    "pd.Series({\n",
    "    'pearson': candidatos.VR_BEM_CANDIDATO.corr(candidatos.QT_VOTOS, method='pearson'),\n",
    "    'spearman': candidatos.VR_BEM_CANDIDATO.corr(candidatos.QT_VOTOS, method='spearman'),\n",
    "    'kendall': candidatos.VR_BEM_CANDIDATO.corr(candidatos.QT_VOTOS, method='kendall')\n",
    "}, name='correlacao').to_frame()\n"
   ]
  },
  {
   "cell_type": "markdown",
   "metadata": {},
   "source": [
    "Analisando os dados com os métodos Pearson, Kendall e Spearman chegamos aos seguintes resultados:\n",
    "\n",
    "* A correlação Pearson está muito baixa, indicando uma correlação quase inexistente entre as duas variáveis, pois o resultado está abaixo de 0,1;\n",
    "\n",
    "* A correlação Spearman está mais alta que a Pearson, mostrando que há uma relação crescente e decrescente entre as variáveis, mas não necessáriamente linear, entretanto, a relação ainda é baixa, pois seu valor está em 0,3 e 0,5;\n",
    "\n",
    "* A correlação Kendall aponta uma baixa concordância entre as duas variáveis, pois seu valor está entre 0,3 e 1.\n",
    "\n",
    "Em resumo, esses valores indicam que há uma baixa relação entre as duas variáveis, sendo incorreto afirmar com propriedade que uma variável influencia diretamente a outra."
   ]
  },
  {
   "cell_type": "markdown",
   "metadata": {},
   "source": [
    "### 2.3 Investigando se a idade dos candidatos influencia a quantidade de dinheiro gasto na campanha"
   ]
  },
  {
   "cell_type": "markdown",
   "metadata": {},
   "source": [
    "Inicialmente utilizaremos uma análise linear para verificar se há alguma relação entre essas duas variáveis. A seguir o *Gráfico 2.3* demonstra visualmente o resultado dessa análise."
   ]
  },
  {
   "cell_type": "markdown",
   "metadata": {},
   "source": [
    "#### Gráfico 2.3"
   ]
  },
  {
   "cell_type": "code",
   "execution_count": 138,
   "metadata": {},
   "outputs": [
    {
     "name": "stderr",
     "output_type": "stream",
     "text": [
      "c:\\Users\\bruns\\anaconda\\Lib\\site-packages\\seaborn\\axisgrid.py:118: UserWarning: The figure layout has changed to tight\n",
      "  self._figure.tight_layout(*args, **kwargs)\n"
     ]
    },
    {
     "data": {
      "text/plain": [
       "<seaborn.axisgrid.FacetGrid at 0x17b36d79550>"
      ]
     },
     "execution_count": 138,
     "metadata": {},
     "output_type": "execute_result"
    },
    {
     "data": {
      "image/png": "[encoded data removed]",
      "text/plain": [
       "<Figure size 700x700 with 1 Axes>"
      ]
     },
     "metadata": {},
     "output_type": "display_data"
    }
   ],
   "source": [
    "sns.lmplot(\n",
    "    data=candidatos, x=\"VR_RECEITA\", y=\"NR_IDADE_DATA_POSSE\",\n",
    "    palette=\"muted\", ci=None, height=7, scatter_kws={\"s\": 20, \"alpha\": 1}\n",
    ")"
   ]
  },
  {
   "cell_type": "markdown",
   "metadata": {},
   "source": [
    "Não é possível concluir nada a partir da análise linear feita para analisar se haveria alguma correlação entre as variáveis, portanto, iremos partir para outros métodos de análise para vê se conseguimos concluir algo."
   ]
  },
  {
   "cell_type": "code",
   "execution_count": 139,
   "metadata": {},
   "outputs": [
    {
     "data": {
      "text/html": [
       "<div>\n",
       "<style scoped>\n",
       "    .dataframe tbody tr th:only-of-type {\n",
       "        vertical-align: middle;\n",
       "    }\n",
       "\n",
       "    .dataframe tbody tr th {\n",
       "        vertical-align: top;\n",
       "    }\n",
       "\n",
       "    .dataframe thead th {\n",
       "        text-align: right;\n",
       "    }\n",
       "</style>\n",
       "<table border=\"1\" class=\"dataframe\">\n",
       "  <thead>\n",
       "    <tr style=\"text-align: right;\">\n",
       "      <th></th>\n",
       "      <th>correlacao</th>\n",
       "    </tr>\n",
       "  </thead>\n",
       "  <tbody>\n",
       "    <tr>\n",
       "      <th>pearson</th>\n",
       "      <td>0.074681</td>\n",
       "    </tr>\n",
       "    <tr>\n",
       "      <th>spearman</th>\n",
       "      <td>0.018691</td>\n",
       "    </tr>\n",
       "    <tr>\n",
       "      <th>kendall</th>\n",
       "      <td>0.009950</td>\n",
       "    </tr>\n",
       "  </tbody>\n",
       "</table>\n",
       "</div>"
      ],
      "text/plain": [
       "          correlacao\n",
       "pearson     0.074681\n",
       "spearman    0.018691\n",
       "kendall     0.009950"
      ]
     },
     "execution_count": 139,
     "metadata": {},
     "output_type": "execute_result"
    }
   ],
   "source": [
    "pd.Series({\n",
    "    'pearson': candidatos.VR_RECEITA.corr(candidatos.NR_IDADE_DATA_POSSE, method='pearson'),\n",
    "    'spearman': candidatos.VR_RECEITA.corr(candidatos.NR_IDADE_DATA_POSSE, method='spearman'),\n",
    "    'kendall': candidatos.VR_RECEITA.corr(candidatos.NR_IDADE_DATA_POSSE, method='kendall')\n",
    "}, name='correlacao').to_frame()"
   ]
  },
  {
   "cell_type": "markdown",
   "metadata": {},
   "source": [
    "Analisando os dados com os métodos Pearson, Kendall e Spearman chegamos aos seguintes resultados:\n",
    "\n",
    "* A correlação Pearson está muito baixa, indicando uma correlação quase inexistente entre as duas variáveis, pois o resultado está abaixo de 0,1;\n",
    "\n",
    "* A correlação Spearman está mais baixa que a Pearson, mostrando que há uma correlação ainda mais fraca entre as variáveis;\n",
    "\n",
    "* A correlação Kendall aponta uma concordância inexistente entre as duas variáveis, pois seu valor está abaixo de 0,1.\n",
    "\n",
    "Em resumo, esses valores indicam que não há uma relação entre as duas variáveis, sendo impossível dizer que uma variável influencia diretamente a outra."
   ]
  },
  {
   "cell_type": "markdown",
   "metadata": {},
   "source": [
    "\n",
    "## 3 Análise de regressão \n",
    "\n",
    "Analise a relação entre a quantidade de votos que um candidato recebe com outras variáveis. Você pode começar com regressão linear simples, considerando apenas uma variável por vez, e depois fazer regressão múltipla. Descreva bem as suas conclusões, de forma clara para um público geral.\n"
   ]
  },
  {
   "cell_type": "markdown",
   "metadata": {},
   "source": [
    "### 3.1 Analisando se é possivel prever a quantia de receita gasta ideal para um candidato se eleger numa campanha"
   ]
  },
  {
   "cell_type": "markdown",
   "metadata": {},
   "source": [
    "Vamos iniciar com uma análise de regressão linear e vê que resultados obtivemos: "
   ]
  },
  {
   "cell_type": "code",
   "execution_count": 140,
   "metadata": {},
   "outputs": [
    {
     "name": "stdout",
     "output_type": "stream",
     "text": [
      "b0 (intercept): 47853.20\n",
      "b1 (coefficient): 7.50\n"
     ]
    }
   ],
   "source": [
    "predictors = ['QT_VOTOS']\n",
    "outcome = 'VR_RECEITA'\n",
    "\n",
    "imputer = SimpleImputer(strategy='mean')\n",
    "candidatos_imputed = candidatos.copy()\n",
    "candidatos_imputed[predictors + [outcome]] = imputer.fit_transform(candidatos[predictors + [outcome]])\n",
    "\n",
    "model = LinearRegression()\n",
    "model.fit(candidatos_imputed[predictors], candidatos_imputed[outcome])\n",
    "\n",
    "print(f'b0 (intercept): {model.intercept_:.2f}')\n",
    "print(f'b1 (coefficient): {model.coef_[0]:.2f}')"
   ]
  },
  {
   "cell_type": "markdown",
   "metadata": {},
   "source": [
    "Neste caso foi necessário imputar alguns valores NAN e fazê-los se adequarem à média dos dados, caso contrário não daria para fazer a análise, dito isso, vamos vê os resultados que obtivemos:\n",
    "* b0 representa o valor da receita gasta na campanha quando o número de votos recebidos for igual a zero, sendo a base de gastos iniciais do candidato. O resultado da análise sugere que precisa-se ter muito mais que 47853 para se obter um voto;\n",
    "\n",
    "* b1 representa a inclinação da linha de regressão, sendo seu valor 7,50. Isso significa que para cada voto recebido, espera-se um aumento de R$7,50 reais no valor da receita do candidato."
   ]
  },
  {
   "cell_type": "markdown",
   "metadata": {},
   "source": [
    "A seguir iremos avaliar o modelo e averiguar sua precição:"
   ]
  },
  {
   "cell_type": "code",
   "execution_count": 141,
   "metadata": {},
   "outputs": [
    {
     "name": "stdout",
     "output_type": "stream",
     "text": [
      "Root Mean Square Error (RMSE): 118986\n",
      "Coefficient of determination (r2): 0.3006\n"
     ]
    }
   ],
   "source": [
    "candidatos_imputed = candidatos.copy()\n",
    "imputer = SimpleImputer(strategy='mean')\n",
    "candidatos_imputed['QT_VOTOS'] = imputer.fit_transform(candidatos_imputed[['QT_VOTOS']])\n",
    "candidatos_imputed['VR_RECEITA'] = imputer.fit_transform(candidatos_imputed[['VR_RECEITA']])\n",
    "\n",
    "fitted = model.predict(candidatos_imputed[predictors])\n",
    "RMSE = np.sqrt(mean_squared_error(candidatos_imputed[outcome], fitted))\n",
    "r2 = r2_score(candidatos_imputed[outcome], fitted)\n",
    "print(f'Root Mean Square Error (RMSE): {RMSE:.0f}')\n",
    "print(f'Coefficient of determination (r2): {r2:.4f}')"
   ]
  },
  {
   "cell_type": "markdown",
   "metadata": {},
   "source": [
    "Para essa análise também foi necessário imputar os valores NAN para que o código pudesse funcionar perfeitamente, dito isso, vamos averiguar quão preciso é o modelo criado:\n",
    "* RMSE é uma medida da diferença entre os valores observados e os valores previstos pelo modelo. No contexto atual, o RMSE ser 118986 é péssimo, pois sugere uma grande discrepância entre os valores reais e os previstos pelo modelo.\n",
    "\n",
    "* R2 é uma medida que indica a proporção da variabilidade na variável de resposta (VR_RECEITA) que é explicada pelo modelo. Neste caso, o valor de 0,3006 indica que cerca de 30.06% da variabilidade na receita de campanha é explicada pelas variáveis preditoras incluídas no modelo."
   ]
  },
  {
   "cell_type": "markdown",
   "metadata": {},
   "source": [
    "Com isso, concluímos que é difícil prever um gasto ideal de receita para um candidado poder ser eleito, sugerindo que outras variáveis também influenciam no eleição de um candidato."
   ]
  }
 ],
 "metadata": {
  "kernelspec": {
   "display_name": "Python 3.9.13 64-bit",
   "language": "python",
   "name": "python3"
  },
  "language_info": {
   "codemirror_mode": {
    "name": "ipython",
    "version": 3
   },
   "file_extension": ".py",
   "mimetype": "text/x-python",
   "name": "python",
   "nbconvert_exporter": "python",
   "pygments_lexer": "ipython3",
   "version": "3.11.5"
  },
  "orig_nbformat": 4,
  "vscode": {
   "interpreter": {
    "hash": "aee8b7b246df8f9039afb4144a1f6fd8d2ca17a180786b69acc140d282b71a49"
   }
  }
 },
 "nbformat": 4,
 "nbformat_minor": 2
}
